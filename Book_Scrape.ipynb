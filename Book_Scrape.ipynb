{
 "cells": [
  {
   "cell_type": "code",
   "execution_count": 1,
   "id": "abd68f4c",
   "metadata": {},
   "outputs": [],
   "source": [
    "from selenium import webdriver\n",
    "from bs4 import BeautifulSoup as bs\n",
    "import time\n",
    "from webdriver_manager.chrome import ChromeDriverManager\n",
    "from selenium.webdriver.common.keys import Keys\n",
    "import pandas as pd\n",
    "import requests as r"
   ]
  },
  {
   "cell_type": "code",
   "execution_count": 2,
   "id": "cadf43d7",
   "metadata": {},
   "outputs": [],
   "source": [
    "books_df=pd.read_csv('AmazonBooks - Sheet1.csv')\n",
    "#after=\"\"\n",
    "#data=[]\n",
    "#url=\"kaggle datasets download -d atahmasb/amazon-job-skills\"\n",
    "books_limited_df=books_df.groupby([\"Name\", \"Author\"]).count()\n"
   ]
  },
  {
   "cell_type": "code",
   "execution_count": 3,
   "id": "ba438137",
   "metadata": {},
   "outputs": [
    {
     "name": "stderr",
     "output_type": "stream",
     "text": [
      "[WDM] - ====== WebDriver manager ======\n",
      "[WDM] - Current google-chrome version is 89.0.4389\n",
      "[WDM] - Get LATEST driver version for 89.0.4389\n"
     ]
    },
    {
     "name": "stdout",
     "output_type": "stream",
     "text": [
      "\n",
      "\n"
     ]
    },
    {
     "name": "stderr",
     "output_type": "stream",
     "text": [
      "[WDM] - Driver [C:\\Users\\brand\\.wdm\\drivers\\chromedriver\\win32\\89.0.4389.23\\chromedriver.exe] found in cache\n"
     ]
    }
   ],
   "source": [
    "driver = webdriver.Chrome(ChromeDriverManager().install())"
   ]
  },
  {
   "cell_type": "code",
   "execution_count": 4,
   "id": "18c8a947",
   "metadata": {},
   "outputs": [],
   "source": [
    "url=\"https://www.goodreads.com/book\""
   ]
  },
  {
   "cell_type": "code",
   "execution_count": null,
   "id": "e98d2b56",
   "metadata": {},
   "outputs": [
    {
     "name": "stdout",
     "output_type": "stream",
     "text": [
      "('11/22/63: A Novel', 'Stephen King')\n",
      "('Adult Coloring Books: A Coloring Book for Adults Featuring Mandalas and Henna Inspired Flowers, Animals, and Paisleyâ€¦', 'Coloring Books for Adults')\n",
      "(\"Balance (Angie's Extreme Stress Menders)\", 'Angie Grace')\n",
      "('Barefoot Contessa Foolproof: Recipes You Can Trust: A Cookbook', 'Ina Garten')\n",
      "('Breaking Dawn (The Twilight Saga, Book 4)', 'Stephenie Meyer')\n",
      "('Calm the F*ck Down: An Irreverent Adult Coloring Book (Irreverent Book Series)', \"Sasha O'Hara\")\n",
      "('Creative Haven Creative Cats Coloring Book (Adult Coloring)', 'Marjorie Sarnat')\n",
      "('Daring Greatly: How the Courage to Be Vulnerable Transforms the Way We Live, Love, Parent, and Lead', 'BreneÌ\\x81 Brown')\n",
      "('Dead And Gone: A Sookie Stackhouse Novel (Sookie Stackhouse/True Blood)', 'Charlaine Harris')\n",
      "('Dead in the Family (Sookie Stackhouse/True Blood, Book 10)', 'Charlaine Harris')\n",
      "('Diagnostic and Statistical Manual of Mental Disorders, 5th Edition: DSM-5', 'American Psychiatric Association')\n",
      "('Diary of a Wimpy Kid: Hard Luck, Book 8', 'Jeff Kinney')\n",
      "('Divine Soul Mind Body Healing and Transmission System: The Divine Way to Heal You, Humanity, Mother Earth, and Allâ€¦', 'Zhi Gang Sha')\n",
      "('Dog Days (Diary of a Wimpy Kid, Book 4) (Volume 4)', 'Jeff Kinney')\n",
      "('Dog Man and Cat Kid: From the Creator of Captain Underpants (Dog Man #4)', 'Dav Pilkey')\n",
      "('Dog Man: A Tale of Two Kitties: From the Creator of Captain Underpants (Dog Man #3)', 'Dav Pilkey')\n",
      "('Dog Man: Brawl of the Wild: From the Creator of Captain Underpants (Dog Man #6)', 'Dav Pilkey')\n",
      "('Dog Man: Fetch-22: From the Creator of Captain Underpants (Dog Man #8)', 'Dav Pilkey')\n",
      "('Dog Man: For Whom the Ball Rolls: From the Creator of Captain Underpants (Dog Man #7)', 'Dav Pilkey')\n",
      "('Dog Man: Lord of the Fleas: From the Creator of Captain Underpants (Dog Man #5)', 'Dav Pilkey')\n",
      "('Dover Creative Haven Art Nouveau Animal Designs Coloring Book (Creative Haven Coloring Books)', 'Marty Noble')\n",
      "('Eat to Live: The Amazing Nutrient-Rich Program for Fast and Sustained Weight Loss, Revised Edition', 'Joel Fuhrman MD')\n",
      "('Enchanted Forest: An Inky Quest and Coloring book (Activity Books, Mindfulness and Meditation, Illustrated Floral Printsâ€¦', 'Johanna Basford')\n",
      "('Fantastic Beasts and Where to Find Them: The Original Screenplay (Harry Potter)', 'J.K. Rowling')\n",
      "('Fifty Shades Freed: Book Three of the Fifty Shades Trilogy (Fifty Shades of Grey Series) (English Edition)', 'E L James')\n",
      "('Fifty Shades Trilogy (Fifty Shades of Grey / Fifty Shades Darker / Fifty Shades Freed)', 'E L James')\n",
      "('Fifty Shades of Grey: Book One of the Fifty Shades Trilogy (Fifty Shades of Grey Series)', 'E L James')\n",
      "('Frozen (Little Golden Book)', 'RH Disney')\n",
      "('Good Days Start With Gratitude: A 52 Week Guide To Cultivate An Attitude Of Gratitude: Gratitude Journal', 'Pretty Simple Press')\n",
      "('Goodnight, Goodnight Construction Site (Hardcover Books for Toddlers, Preschool Books for Kids)', 'Sherri Duskey Rinker')\n",
      "('Harry Potter Paperback Box Set (Books 1-7)', 'J. K. Rowling')\n",
      "('Harry Potter and the Goblet of Fire: The Illustrated Edition (Harry Potter, Book 4) (4)', 'J. K. Rowling')\n",
      "(\"In the Garden of Beasts: Love, Terror, and an American Family in Hitler's Berlin\", 'Eric Larson')\n",
      "('Inheritance: Book IV (Inheritance Cycle)', 'Christopher Paolini')\n",
      "('Instant Pot Pressure Cooker Cookbook: 500 Everyday Recipes for Beginners and Advanced Users. Try Easy and Healthyâ€¦', 'Jennifer Smith')\n",
      "('JOURNEY TO THE ICE P', 'RH Disney')\n",
      "(\"Killing Jesus (Bill O'Reilly's Killing Series)\", \"Bill O'Reilly\")\n",
      "(\"Killing Lincoln: The Shocking Assassination that Changed America Forever (Bill O'Reilly's Killing Series)\", \"Bill O'Reilly\")\n",
      "(\"Killing Patton: The Strange Death of World War II's Most Audacious General (Bill O'Reilly's Killing Series)\", \"Bill O'Reilly\")\n",
      "(\"Killing the Rising Sun: How America Vanquished World War II Japan (Bill O'Reilly's Killing Series)\", \"Bill O'Reilly\")\n",
      "('Kitchen Confidential Updated Edition: Adventures in the Culinary Underbelly (P.S.)', 'Anthony Bourdain')\n",
      "('Last Week Tonight with John Oliver Presents A Day in the Life of Marlon Bundo (Better Bundo Book, LGBT ChildrenÂ’s Book)', 'Jill Twiss')\n"
     ]
    }
   ],
   "source": [
    "html_list=[]\n",
    "to_fix=[]\n",
    "for index,row in books_limited_df.iterrows():\n",
    "    search_string=(f'{index[1]} {index[0]}')\n",
    "    driver.get(url)\n",
    "    driver.find_element_by_xpath('/html/body/div[2]/div[1]/div/header/div[1]/div/div[2]/form/input[1]').send_keys(search_string)\n",
    "    driver.find_element_by_xpath('/html/body/div[2]/div[1]/div/header/div[1]/div/div[2]/form/input[1]').send_keys(Keys.ENTER)\n",
    "    time.sleep(2)\n",
    "    try:\n",
    "        book_url=driver.find_element_by_xpath(\"/html/body/div[2]/div[3]/div[1]/div[2]/div[2]/table/tbody/tr[1]/td[2]/a\").get_attribute(\"href\")\n",
    "        driver.get(book_url)\n",
    "        time.sleep(1)\n",
    "    except:\n",
    "        to_fix.append(index)\n",
    "        print(index)\n",
    "    \n",
    "        continue\n",
    "    html_list.append((index, driver.page_source))\n"
   ]
  },
  {
   "cell_type": "code",
   "execution_count": null,
   "id": "c3a9d908",
   "metadata": {},
   "outputs": [],
   "source": [
    "for x in to_fix:\n",
    "    if \":\" in x[0]:\n",
    "        new_title = x[0].split(\":\")[0]\n",
    "    elif \"(\" in x[0]:\n",
    "        new_title = x[0].split(\"(\")[0]\n",
    "    else:\n",
    "        print(x)\n",
    "    \n",
    "        continue\n",
    "\n",
    "    search_string=(f'{x[1]} {new_title}')\n",
    "    driver.get(url)\n",
    "    driver.find_element_by_xpath('/html/body/div[2]/div[1]/div/header/div[1]/div/div[2]/form/input[1]').send_keys(search_string)\n",
    "    driver.find_element_by_xpath('/html/body/div[2]/div[1]/div/header/div[1]/div/div[2]/form/input[1]').send_keys(Keys.ENTER)\n",
    "    time.sleep(2)\n",
    "    try:\n",
    "        book_url=driver.find_element_by_xpath(\"/html/body/div[2]/div[3]/div[1]/div[2]/div[2]/table/tbody/tr[1]/td[2]/a\").get_attribute(\"href\")\n",
    "        driver.get(book_url)\n",
    "        time.sleep(1)\n",
    "    except:\n",
    "        print(x)\n",
    "        continue\n",
    "    html_list.append((x, driver.page_source))"
   ]
  },
  {
   "cell_type": "code",
   "execution_count": null,
   "id": "2918f233",
   "metadata": {},
   "outputs": [],
   "source": [
    "\n",
    "for book in html_list:\n",
    "    print(book[0], book[1])\n",
    "    "
   ]
  },
  {
   "cell_type": "code",
   "execution_count": null,
   "id": "3e42e720",
   "metadata": {},
   "outputs": [],
   "source": [
    "df = pd.DataFrame(columns=[\"Titles\",\"Genre\"])"
   ]
  },
  {
   "cell_type": "code",
   "execution_count": null,
   "id": "6f2d95fe",
   "metadata": {},
   "outputs": [],
   "source": [
    "link = r.get(url)\n",
    "link.encoding = \"utf-8\"\n",
    "html = link.text\n",
    "soup = bs(html, 'lxml')\n",
    "table = soup.find_all('a', class_=\"actionLinkLite bookPageGenreLink\")\n",
    "genre = [x.text for x in table]\n",
    "title = soup.find('h1', itemprop=\"name\").text.strip()\n",
    "df_2 = pd.DataFrame({\"Titles\":title,\"Genre\": genre})\n",
    "df = df.append(df_2)\n",
    "df"
   ]
  }
 ],
 "metadata": {
  "kernelspec": {
   "display_name": "Python 3",
   "language": "python",
   "name": "python3"
  },
  "language_info": {
   "codemirror_mode": {
    "name": "ipython",
    "version": 3
   },
   "file_extension": ".py",
   "mimetype": "text/x-python",
   "name": "python",
   "nbconvert_exporter": "python",
   "pygments_lexer": "ipython3",
   "version": "3.6.10"
  }
 },
 "nbformat": 4,
 "nbformat_minor": 5
}
